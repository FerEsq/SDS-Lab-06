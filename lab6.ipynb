{
 "cells": [
  {
   "cell_type": "markdown",
   "metadata": {},
   "source": [
    "## Lab 6. Análisis de tráfico de red\n",
    "\n",
    "### Miembros\n",
    "* Fernanda Esquivel - 21542\n",
    "\n",
    "### Link al repositorio\n",
    "El repositorio puede ser visualizado [acá](https://github.com/FerEsq/SDS-Lab-06)"
   ]
  },
  {
   "cell_type": "code",
   "execution_count": 1,
   "metadata": {},
   "outputs": [],
   "source": [
    "from scapy.all import rdpcap, IP, TCP, UDP\n",
    "import pandas as pd\n",
    "import matplotlib.pyplot as plt\n",
    "from collections import Counter"
   ]
  },
  {
   "cell_type": "markdown",
   "metadata": {},
   "source": [
    "# Análisis estadístico"
   ]
  },
  {
   "cell_type": "markdown",
   "metadata": {},
   "source": [
    "## Preprocesamiento de 'analisis_paquetes.pcap'"
   ]
  },
  {
   "cell_type": "code",
   "execution_count": 2,
   "metadata": {},
   "outputs": [
    {
     "name": "stdout",
     "output_type": "stream",
     "text": [
      "   Se han cargado 62 paquetes del archivo PCAP\n",
      "\n"
     ]
    }
   ],
   "source": [
    "packages = rdpcap(\"analisis_paquetes.pcap\")\n",
    "print(f\"   Se han cargado {len(packages)} paquetes del archivo PCAP\\n\")"
   ]
  },
  {
   "cell_type": "code",
   "execution_count": 3,
   "metadata": {},
   "outputs": [],
   "source": [
    "data = []"
   ]
  },
  {
   "cell_type": "code",
   "execution_count": 4,
   "metadata": {},
   "outputs": [],
   "source": [
    "for pkt in packages:\n",
    "    # Diccionario para almacenar la información del paquete actual\n",
    "    pkt_info = {}\n",
    "    \n",
    "    # Verificamos si el paquete tiene una capa IP\n",
    "    if IP in pkt:\n",
    "        pkt_info['Src_Address'] = pkt[IP].src\n",
    "        pkt_info['Dst_Address'] = pkt[IP].dst\n",
    "        pkt_info['Protocol'] = pkt[IP].proto\n",
    "        pkt_info['IP_Length'] = pkt[IP].len\n",
    "        pkt_info['TTL'] = pkt[IP].ttl\n",
    "        \n",
    "        # Verificamos si el paquete tiene una capa TCP\n",
    "        if TCP in pkt:\n",
    "            pkt_info['Src_Port'] = pkt[TCP].sport\n",
    "            pkt_info['Dst_Port'] = pkt[TCP].dport\n",
    "            pkt_info['TCP_Flags'] = pkt[TCP].flags\n",
    "            pkt_info['Seq_Num'] = pkt[TCP].seq\n",
    "            pkt_info['Ack'] = pkt[TCP].ack\n",
    "        # Verificamos si el paquete tiene una capa UDP\n",
    "        elif UDP in pkt:\n",
    "            pkt_info['Src_Port'] = pkt[UDP].sport\n",
    "            pkt_info['Dst_Port'] = pkt[UDP].dport\n",
    "        else:\n",
    "            pkt_info['Src_Port'] = None\n",
    "            pkt_info['Dst_Port'] = None\n",
    "        \n",
    "        # Agregamos la información del paquete a nuestra lista\n",
    "        data.append(pkt_info)"
   ]
  },
  {
   "cell_type": "code",
   "execution_count": 5,
   "metadata": {},
   "outputs": [
    {
     "name": "stdout",
     "output_type": "stream",
     "text": [
      "DataFrame creado con éxito\n",
      "\n"
     ]
    }
   ],
   "source": [
    "#Creción del DataFrame con la info recopilada\n",
    "df = pd.DataFrame(data)\n",
    "print(\"DataFrame creado con éxito\\n\")"
   ]
  },
  {
   "cell_type": "code",
   "execution_count": 6,
   "metadata": {},
   "outputs": [
    {
     "name": "stdout",
     "output_type": "stream",
     "text": [
      "Contenido de las primeras 5 filas del dataset:\n",
      "   Src_Address  Dst_Address  Protocol  IP_Length  TTL  Src_Port  Dst_Port\n",
      "0   10.1.10.53  84.54.22.33        17        961   64        53        53\n",
      "1  84.54.22.33   10.1.10.53        17         84  122        53        53\n",
      "2   10.1.10.53  84.54.22.33        17        975   64        53        53\n",
      "3  84.54.22.33   10.1.10.53        17         84  122        53        53\n",
      "4   10.1.10.53  84.54.22.33        17       1012   64        53        53\n",
      "\n",
      "\n"
     ]
    }
   ],
   "source": [
    "print(\"Contenido de las primeras 5 filas del dataset:\")\n",
    "print(df.head(5))\n",
    "print(\"\\n\")"
   ]
  },
  {
   "cell_type": "code",
   "execution_count": 7,
   "metadata": {},
   "outputs": [
    {
     "name": "stdout",
     "output_type": "stream",
     "text": [
      "Valores de las columnas principales:\n",
      "   Src_Address  Dst_Address  Src_Port  Dst_Port\n",
      "0   10.1.10.53  84.54.22.33        53        53\n",
      "1  84.54.22.33   10.1.10.53        53        53\n",
      "2   10.1.10.53  84.54.22.33        53        53\n",
      "3  84.54.22.33   10.1.10.53        53        53\n",
      "4   10.1.10.53  84.54.22.33        53        53\n",
      "5  84.54.22.33   10.1.10.53        53        53\n",
      "6   10.1.10.53  84.54.22.33        53        53\n",
      "7  84.54.22.33   10.1.10.53        53        53\n",
      "8   10.1.10.53  84.54.22.33        53        53\n",
      "9  84.54.22.33   10.1.10.53        53        53\n",
      "\n",
      "\n"
     ]
    }
   ],
   "source": [
    "print(\"Valores de las columnas principales:\")\n",
    "colsToShow = ['Src_Address', 'Dst_Address', 'Src_Port', 'Dst_Port']\n",
    "print(df[colsToShow].head(10))  # Mostramos las primeras 10 filas\n",
    "print(\"\\n\")"
   ]
  },
  {
   "cell_type": "markdown",
   "metadata": {},
   "source": [
    "## Estadísticas"
   ]
  },
  {
   "cell_type": "markdown",
   "metadata": {},
   "source": [
    "### Todas las IP origen"
   ]
  },
  {
   "cell_type": "code",
   "execution_count": 18,
   "metadata": {},
   "outputs": [
    {
     "name": "stdout",
     "output_type": "stream",
     "text": [
      "   IPs origen únicas:\n",
      "['10.1.10.53' '84.54.22.33' '75.75.75.75']\n",
      "      Total de IPs origen únicas: 3\n",
      "\n",
      "\n"
     ]
    }
   ],
   "source": [
    "#Mostrar todas las IP origen\n",
    "print(\"   IPs origen únicas:\")\n",
    "ipsOrigin = df['Src_Address'].unique()\n",
    "print(ipsOrigin)\n",
    "print(f\"      Total de IPs origen únicas: {len(ipsOrigin)}\")\n",
    "print(\"\\n\")"
   ]
  },
  {
   "cell_type": "markdown",
   "metadata": {},
   "source": [
    "### Todas las IP destino"
   ]
  },
  {
   "cell_type": "code",
   "execution_count": 9,
   "metadata": {},
   "outputs": [
    {
     "name": "stdout",
     "output_type": "stream",
     "text": [
      "   IPs destino únicas:\n",
      "['84.54.22.33' '10.1.10.53' '75.75.75.75']\n",
      "      Total de IPs destino únicas: 3\n",
      "\n",
      "\n"
     ]
    }
   ],
   "source": [
    "#Mostrar todas las IP destino\n",
    "print(\"   IPs destino únicas:\")\n",
    "ipsDestination = df['Dst_Address'].unique()\n",
    "print(ipsDestination)\n",
    "print(f\"      Total de IPs destino únicas: {len(ipsDestination)}\")\n",
    "print(\"\\n\")"
   ]
  },
  {
   "cell_type": "markdown",
   "metadata": {},
   "source": [
    "### ¿Cuál es la IP origen más frecuente?"
   ]
  },
  {
   "cell_type": "code",
   "execution_count": null,
   "metadata": {},
   "outputs": [
    {
     "name": "stdout",
     "output_type": "stream",
     "text": [
      "   IP origen más frecuente:\n",
      "      IP: 10.1.10.53 (aparece 31 veces)\n"
     ]
    }
   ],
   "source": [
    "#IP origen más frecuente\n",
    "print(\"   IP origen más frecuente:\")\n",
    "ipOrFrequent = df['Src_Address'].value_counts().idxmax()\n",
    "ipOrCount = df['Src_Address'].value_counts().max()\n",
    "print(f\"      IP: {ipOrFrequent} (aparece {ipOrCount} veces)\")"
   ]
  },
  {
   "cell_type": "markdown",
   "metadata": {},
   "source": [
    "#### ¿A qué IP destino se comunica con más frecuencia?"
   ]
  },
  {
   "cell_type": "code",
   "execution_count": null,
   "metadata": {},
   "outputs": [
    {
     "name": "stdout",
     "output_type": "stream",
     "text": [
      "      IP destino con la que se comunica más frecuentemente:\n",
      "         IP: 84.54.22.33 (aparece 29 veces)\n"
     ]
    }
   ],
   "source": [
    "print(\"      IP destino con la que se comunica más frecuentemente:\")\n",
    "# Filtramos el DataFrame para la IP origen más frecuente\n",
    "dfIPFrequent = df[df['Src_Address'] == ipOrFrequent]\n",
    "ipDestFrequent = dfIPFrequent['Dst_Address'].value_counts().idxmax()\n",
    "ipDestCount = dfIPFrequent['Dst_Address'].value_counts().max()\n",
    "print(f\"         IP: {ipDestFrequent} (aparece {ipDestCount} veces)\")"
   ]
  },
  {
   "cell_type": "markdown",
   "metadata": {},
   "source": [
    "#### ¿A qué puerto destino se comunica?"
   ]
  },
  {
   "cell_type": "code",
   "execution_count": null,
   "metadata": {},
   "outputs": [
    {
     "name": "stdout",
     "output_type": "stream",
     "text": [
      "      Puertos destino a los que se comunica:\n",
      "Dst_Port\n",
      "53    29\n",
      "Name: count, dtype: int64\n"
     ]
    }
   ],
   "source": [
    "print(\"      Puertos destino a los que se comunica:\")\n",
    "#Filtramos para la IP origen más frecuente y la IP destino más frecuente\n",
    "dfIPPort = df[(df['Src_Address'] == ipOrFrequent) & (df['Dst_Address'] == ipDestFrequent)]\n",
    "destinationPorts = dfIPPort['Dst_Port'].value_counts()\n",
    "print(destinationPorts.head(10))  # Mostramos los 10 puertos más frecuentes"
   ]
  },
  {
   "cell_type": "markdown",
   "metadata": {},
   "source": [
    "##### ¿Cuál es el propósito de este puerto?"
   ]
  },
  {
   "cell_type": "code",
   "execution_count": null,
   "metadata": {},
   "outputs": [
    {
     "name": "stdout",
     "output_type": "stream",
     "text": [
      "\n",
      "      Puerto destino más común: 53\n"
     ]
    }
   ],
   "source": [
    "#Identificamos el puerto más común\n",
    "commonPort = destinationPorts.idxmax()\n",
    "print(f\"\\n      Puerto destino más común: {commonPort}\")"
   ]
  },
  {
   "cell_type": "code",
   "execution_count": 15,
   "metadata": {},
   "outputs": [],
   "source": [
    "#Diccionario con puertos comunes y sus propósitos\n",
    "knownPorts = {\n",
    "    20: \"FTP (transferencia de datos)\",\n",
    "    21: \"FTP (control)\",\n",
    "    22: \"SSH (acceso remoto seguro)\",\n",
    "    23: \"Telnet (acceso remoto)\",\n",
    "    25: \"SMTP (correo saliente)\",\n",
    "    53: \"DNS (resolución de nombres)\",\n",
    "    80: \"HTTP (web)\",\n",
    "    110: \"POP3 (correo entrante)\",\n",
    "    143: \"IMAP (correo entrante)\",\n",
    "    443: \"HTTPS (web segura)\",\n",
    "    3389: \"RDP (escritorio remoto)\",\n",
    "    8080: \"HTTP Alternativo/Proxy\"\n",
    "}"
   ]
  },
  {
   "cell_type": "code",
   "execution_count": 16,
   "metadata": {},
   "outputs": [
    {
     "name": "stdout",
     "output_type": "stream",
     "text": [
      "      Propósito: DNS (resolución de nombres)\n"
     ]
    }
   ],
   "source": [
    "# Verificamos si el puerto está en nuestro diccionario\n",
    "if commonPort in knownPorts:\n",
    "    print(f\"      Propósito: {knownPorts[commonPort]}\")\n",
    "else:\n",
    "    #Si no está en nuestro diccionario, comprobamos algunos rangos comunes\n",
    "    if 0 <= commonPort <= 1023:\n",
    "        print(\"      Propósito: Puerto bien conocido (sistema)\")\n",
    "    elif 1024 <= commonPort <= 49151:\n",
    "        print(\"      Propósito: Puerto registrado (aplicaciones)\")\n",
    "    else:\n",
    "        print(\"      Propósito: Puerto dinámico/privado (uso temporal)\")"
   ]
  },
  {
   "cell_type": "markdown",
   "metadata": {},
   "source": [
    "#### ¿Desde que puertos origen se comunica?"
   ]
  },
  {
   "cell_type": "code",
   "execution_count": null,
   "metadata": {},
   "outputs": [
    {
     "name": "stdout",
     "output_type": "stream",
     "text": [
      "      Puertos origen desde los que se comunica:\n",
      "Src_Port\n",
      "53    29\n",
      "Name: count, dtype: int64\n"
     ]
    }
   ],
   "source": [
    "print(\"      Puertos origen desde los que se comunica:\")\n",
    "originPorts = dfIPPort['Src_Port'].value_counts()\n",
    "print(originPorts.head(10))  #Mostramos los 10 puertos origen más frecuentes"
   ]
  }
 ],
 "metadata": {
  "kernelspec": {
   "display_name": "Python 3",
   "language": "python",
   "name": "python3"
  },
  "language_info": {
   "codemirror_mode": {
    "name": "ipython",
    "version": 3
   },
   "file_extension": ".py",
   "mimetype": "text/x-python",
   "name": "python",
   "nbconvert_exporter": "python",
   "pygments_lexer": "ipython3",
   "version": "3.10.11"
  }
 },
 "nbformat": 4,
 "nbformat_minor": 2
}
